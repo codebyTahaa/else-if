{
 "cells": [
  {
   "cell_type": "markdown",
   "metadata": {},
   "source": [
    "# Part -1 Python Basics (Variables)"
   ]
  },
  {
   "cell_type": "markdown",
   "metadata": {},
   "source": [
    "1. Print Your Name with your Father name and Date of birth using suitable escape sequence charactor"
   ]
  },
  {
   "cell_type": "code",
   "execution_count": 2,
   "metadata": {},
   "outputs": [
    {
     "name": "stdout",
     "output_type": "stream",
     "text": [
      "Name: Taha\n",
      "Father's Name: Amir\n",
      "Date of Birth: 29-12-24\n"
     ]
    }
   ],
   "source": [
    "print(\"Name: Taha\\nFather's Name: Amir\\nDate of Birth: 29-12-24\")\n"
   ]
  },
  {
   "cell_type": "markdown",
   "metadata": {},
   "source": [
    "2. Write your small bio using variables and print it using print function"
   ]
  },
  {
   "cell_type": "code",
   "execution_count": 3,
   "metadata": {},
   "outputs": [
    {
     "name": "stdout",
     "output_type": "stream",
     "text": [
      "hi my name is taha and my father name is amir , my date of birth is 29-12-2005 so my age is 18 my address is liaquatabad karachi\n"
     ]
    }
   ],
   "source": [
    "name=\"taha\"\n",
    "father_name=\"amir\"\n",
    "age=\"18\"\n",
    "date_of_birth= \"29-12-2005\"\n",
    "address=\"liaquatabad karachi\"\n",
    "print(f\"hi my name is {name} and my father name is {father_name} , my date of birth is {date_of_birth} so my age is {age} my address is {address}\")"
   ]
  },
  {
   "cell_type": "markdown",
   "metadata": {},
   "source": [
    "3. Write a program in which use all the operators we can use in Python"
   ]
  },
  {
   "cell_type": "code",
   "execution_count": 4,
   "metadata": {},
   "outputs": [
    {
     "name": "stdout",
     "output_type": "stream",
     "text": [
      " addition 25\n",
      " subtraction -5\n",
      " multiplication 150\n",
      " division 0.6666666666666666\n",
      "x is equal to 15\n",
      "a is equal to b?False\n",
      "a is not equal to b?True\n",
      "a is greater then b?True\n",
      "a is not greater then b?False\n",
      "a AND b:False\n",
      "a OR b:True\n",
      " NOT a:False\n"
     ]
    }
   ],
   "source": [
    "#basic mathematics\n",
    "a=10\n",
    "b=15\n",
    "print(f\" addition {a+b}\")\n",
    "print(f\" subtraction {a-b}\")\n",
    "print(f\" multiplication {a*b}\")\n",
    "print(f\" division {a/b}\")\n",
    "\n",
    "#Assignment operators\n",
    "\n",
    "x=10\n",
    "x+=5\n",
    "print(f\"x is equal to {x}\")\n",
    "\n",
    "#comparision operators\n",
    "\n",
    "a=10\n",
    "b=5\n",
    "print(f\"a is equal to b?{a==b}\")\n",
    "print(f\"a is not equal to b?{a!=b}\")\n",
    "print(f\"a is greater then b?{a>b}\")\n",
    "print(f\"a is not greater then b?{b>a}\")\n",
    "\n",
    "#logical operators\n",
    "a=True\n",
    "b=False\n",
    "print(f\"a AND b:{a and b}\")\n",
    "print(f\"a OR b:{a or b}\")\n",
    "print(f\" NOT a:{ not a}\")"
   ]
  },
  {
   "cell_type": "markdown",
   "metadata": {},
   "source": [
    "4. Completes the following steps of small task:\n",
    "    - Mention Marks of English , Islamiat and Maths out of 100 in 3 different variables\n",
    "    - Mention Variable of Total Marks and assign 300 to it\n",
    "    - Calculate Percentage"
   ]
  },
  {
   "cell_type": "code",
   "execution_count": 5,
   "metadata": {},
   "outputs": [
    {
     "name": "stdout",
     "output_type": "stream",
     "text": [
      "your percentage is 87.33333333333333\n"
     ]
    }
   ],
   "source": [
    "eng=90\n",
    "math=84\n",
    "islamiat=88\n",
    "total=300\n",
    "sum=eng+math+islamiat\n",
    "print(f\"your percentage is {sum/total*100}\")"
   ]
  },
  {
   "cell_type": "markdown",
   "metadata": {},
   "source": [
    "# Part -2 Python Basics (Conditional Statements)"
   ]
  },
  {
   "cell_type": "markdown",
   "metadata": {},
   "source": [
    "1) A company decided to give bonus of 5% to employee if his/her year of service is more than 5 years.\n",
    "Ask user for their salary and year of service and print the net bonus amount."
   ]
  },
  {
   "cell_type": "code",
   "execution_count": 1,
   "metadata": {},
   "outputs": [
    {
     "name": "stdout",
     "output_type": "stream",
     "text": [
      "enter your years of service:4\n",
      "enter your salary:39000\n",
      "no incremenet\n"
     ]
    }
   ],
   "source": [
    "service=int(input(\"enter your years of service:\"))\n",
    "salary=int(input(\"enter your salary:\"))\n",
    "if service>5:\n",
    "    print(f\"your bonus salary is {salary*0.05}\")\n",
    "else:\n",
    "    print(\"no incremenet\")"
   ]
  },
  {
   "cell_type": "markdown",
   "metadata": {},
   "source": [
    "\n",
    "2) Write a program to check whether a person is eligible for voting or not. (accept age from user) if age is greater than 17 eligible otherwise not eligible"
   ]
  },
  {
   "cell_type": "code",
   "execution_count": 2,
   "metadata": {},
   "outputs": [
    {
     "name": "stdout",
     "output_type": "stream",
     "text": [
      "enter your age:56\n",
      "you are elegible for voting\n"
     ]
    }
   ],
   "source": [
    "age=int(input(\"enter your age:\"))\n",
    "if age >=17:\n",
    "    print(\"you are elegible for voting\")\n",
    "else:\n",
    "    print(\"you re not elegible\")"
   ]
  },
  {
   "cell_type": "markdown",
   "metadata": {},
   "source": [
    "\n",
    "3) Write a program to check whether a number entered by user is even or odd."
   ]
  },
  {
   "cell_type": "code",
   "execution_count": 3,
   "metadata": {},
   "outputs": [
    {
     "name": "stdout",
     "output_type": "stream",
     "text": [
      "enter your number:4\n",
      "number is even\n"
     ]
    }
   ],
   "source": [
    "number=int(input(\"enter your number:\"))\n",
    "if number %2 == 0:\n",
    "    print(\"number is even\")\n",
    "else:\n",
    "    print(\"number is odd\") "
   ]
  },
  {
   "cell_type": "markdown",
   "metadata": {},
   "source": [
    "4) Write a program to check whether a number is divisible by 7 or not.\n",
    "Show Answer"
   ]
  },
  {
   "cell_type": "code",
   "execution_count": 4,
   "metadata": {},
   "outputs": [
    {
     "name": "stdout",
     "output_type": "stream",
     "text": [
      "enter your number:49\n",
      "number is divisible by 7\n"
     ]
    }
   ],
   "source": [
    "number=int(input(\"enter your number:\"))\n",
    "if number %7 == 0:\n",
    "    print(\"number is divisible by 7\")\n",
    "else:\n",
    "    print(\"number is not divisible by 7\") "
   ]
  },
  {
   "cell_type": "markdown",
   "metadata": {},
   "source": [
    "5) Write a program to display \n",
    "\"Hello\" if a number entered by user is a multiple of five , otherwise print \"Bye\"."
   ]
  },
  {
   "cell_type": "code",
   "execution_count": 5,
   "metadata": {},
   "outputs": [
    {
     "name": "stdout",
     "output_type": "stream",
     "text": [
      "enter your number:45\n",
      "hello\n"
     ]
    }
   ],
   "source": [
    "number=int(input(\"enter your number:\"))\n",
    "if number %5 == 0:\n",
    "    print(\"hello\")\n",
    "else:\n",
    "    print(\"bye\") "
   ]
  },
  {
   "cell_type": "markdown",
   "metadata": {},
   "source": [
    "7) Write a program to display the last digit of a number.\n"
   ]
  },
  {
   "cell_type": "code",
   "execution_count": 9,
   "metadata": {},
   "outputs": [
    {
     "name": "stdout",
     "output_type": "stream",
     "text": [
      "Enter a number: 4567\n"
     ]
    },
    {
     "ename": "NameError",
     "evalue": "name 'last_digit' is not defined",
     "output_type": "error",
     "traceback": [
      "\u001b[1;31m---------------------------------------------------------------------------\u001b[0m",
      "\u001b[1;31mNameError\u001b[0m                                 Traceback (most recent call last)",
      "Cell \u001b[1;32mIn[9], line 5\u001b[0m\n\u001b[0;32m      3\u001b[0m \u001b[38;5;28;01mif\u001b[39;00m number \u001b[38;5;241m<\u001b[39m \u001b[38;5;241m0\u001b[39m:\n\u001b[0;32m      4\u001b[0m     last_digit \u001b[38;5;241m==\u001b[39m number \u001b[38;5;241m%\u001b[39m \u001b[38;5;241m10\u001b[39m\n\u001b[1;32m----> 5\u001b[0m \u001b[38;5;28;01mif\u001b[39;00m last_digit \u001b[38;5;241m==\u001b[39m \u001b[38;5;241m0\u001b[39m:\n\u001b[0;32m      6\u001b[0m     \u001b[38;5;28mprint\u001b[39m(\u001b[38;5;124m\"\u001b[39m\u001b[38;5;124mThe last digit is 0\u001b[39m\u001b[38;5;124m\"\u001b[39m)\n\u001b[0;32m      7\u001b[0m \u001b[38;5;28;01melif\u001b[39;00m last_digit \u001b[38;5;241m==\u001b[39m \u001b[38;5;241m1\u001b[39m:\n",
      "\u001b[1;31mNameError\u001b[0m: name 'last_digit' is not defined"
     ]
    }
   ],
   "source": [
    "number = int(input(\"Enter a number: \"))\n",
    "\n",
    "if number < 0:\n",
    "    last_digit = number % 10\n",
    "if last_digit == 0:\n",
    "    print(\"The last digit is 0\")\n",
    "elif last_digit == 1:\n",
    "    print(\"The last digit is 1\")\n",
    "elif last_digit == 2:\n",
    "    print(\"The last digit is 2\")\n",
    "elif last_digit == 3:\n",
    "    print(\"The last digit is 3\")\n",
    "elif last_digit == 4:\n",
    "    print(\"The last digit is 4\")\n",
    "elif last_digit == 5:\n",
    "    print(\"The last digit is 5\")\n",
    "elif last_digit == 6:\n",
    "    print(\"The last digit is 6\")\n",
    "elif last_digit == 7:\n",
    "    print(\"The last digit is 7\")\n",
    "elif last_digit == 8:\n",
    "    print(\"The last digit is 8\")\n",
    "elif last_digit == 9:\n",
    "    print(\"The last digit is 9\")\n",
    "else:\n",
    "    print(\"Error\")  "
   ]
  },
  {
   "cell_type": "markdown",
   "metadata": {},
   "source": [
    "9) Take values of length and breadth of a rectangle from user and print if it is square or rectangle."
   ]
  },
  {
   "cell_type": "code",
   "execution_count": 10,
   "metadata": {},
   "outputs": [
    {
     "name": "stdout",
     "output_type": "stream",
     "text": [
      "enter value of length:4\n",
      "enter value of breadth:5\n",
      "rectangle\n"
     ]
    }
   ],
   "source": [
    "length=int(input(\"enter value of length:\"))\n",
    "breadth=int(input(\"enter value of breadth:\"))\n",
    "if length==breadth:\n",
    "    print(\"square\")\n",
    "else:\n",
    "    print(\"rectangle\")\n",
    "           "
   ]
  },
  {
   "cell_type": "markdown",
   "metadata": {},
   "source": [
    "10) Take two int values from user and print greatest among them."
   ]
  },
  {
   "cell_type": "code",
   "execution_count": 11,
   "metadata": {},
   "outputs": [
    {
     "name": "stdout",
     "output_type": "stream",
     "text": [
      "enter your value:4\n",
      "enter your value:6\n",
      "6\n"
     ]
    }
   ],
   "source": [
    "value_1=int(input(\"enter your value:\"))\n",
    "value_2=int(input(\"enter your value:\"))\n",
    "if value_1>value_2 :\n",
    "    print(f\"{value_1}\")\n",
    "elif value_2>value_1 :\n",
    "    print(f\"{value_2}\")"
   ]
  },
  {
   "cell_type": "markdown",
   "metadata": {},
   "source": [
    "11) A shop will give discount of 10% if the cost of purchased quantity is more than 1000.\n",
    "Ask user for quantity\n",
    "Suppose, one unit will cost 100.\n",
    "Judge and print total cost for user."
   ]
  },
  {
   "cell_type": "code",
   "execution_count": 12,
   "metadata": {},
   "outputs": [
    {
     "name": "stdout",
     "output_type": "stream",
     "text": [
      "Enter the quantity of units you want to purchase: 45\n",
      "The total cost is: 4050.0\n"
     ]
    }
   ],
   "source": [
    "quantity = int(input(\"Enter the quantity of units you want to purchase: \"))\n",
    "unit_cost = 100\n",
    "total_cost = quantity * unit_cost\n",
    "if total_cost > 1000:\n",
    "    discount = total_cost * 0.10\n",
    "    total_cost -= discount\n",
    "print(\"The total cost is:\", total_cost)"
   ]
  },
  {
   "cell_type": "markdown",
   "metadata": {},
   "source": [
    "12) A school has following rules for grading system:\n",
    "\n",
    "a. Below 25 - F\n",
    "\n",
    "b. 25 to 45 - E\n",
    "\n",
    "c. 45 to 50 - D\n",
    "\n",
    "d. 50 to 60 - C\n",
    "\n",
    "e. 60 to 80 - B\n",
    "\n",
    "f. Above 80 - A\n",
    "\n",
    "Ask user to enter marks and print the corresponding grade."
   ]
  },
  {
   "cell_type": "code",
   "execution_count": 23,
   "metadata": {},
   "outputs": [
    {
     "name": "stdout",
     "output_type": "stream",
     "text": [
      "enter your marks:45\n",
      "yur grade is D\n"
     ]
    }
   ],
   "source": [
    "marks=int(input(\"enter your marks:\"))\n",
    "if marks <= 25:\n",
    "    print(\"ypur grade is F\")\n",
    "    \n",
    "elif marks >= 25 and marks < 45:\n",
    "    print(\"your grade is E\")\n",
    "elif marks >= 45 and marks < 50:\n",
    "    print(\"yur grade is D\")\n",
    "elif marks >= 50 and marks < 60:\n",
    "    print(\"your grade is C\")\n",
    "elif marks >= 60 and marks < 80:\n",
    "    print(\"your grade is B\")\n",
    "elif marks >= 80:\n",
    "    print(\"your grade is A\")\n",
    "else:\n",
    "    print(\"invalid marks entered\")\n",
    "\n"
   ]
  },
  {
   "cell_type": "markdown",
   "metadata": {},
   "source": [
    "14)A student will not be allowed to sit in exam if his/her attendence is less than 75%.\n",
    "\n",
    "Take following input from user\n",
    "\n",
    "- Number of classes held\n",
    "\n",
    "- Number of classes attended.\n",
    "\n",
    "And print\n",
    "\n",
    "- percentage of class attended\n",
    "\n",
    "- Is student is allowed to sit in exam or not.\n"
   ]
  },
  {
   "cell_type": "code",
   "execution_count": 24,
   "metadata": {},
   "outputs": [
    {
     "name": "stdout",
     "output_type": "stream",
     "text": [
      "enter num of classes held:65\n",
      "enter m of classes attend:45\n",
      " u will allow to sit in exam\n"
     ]
    }
   ],
   "source": [
    "classes=int(input(\"enter num of classes held:\"))\n",
    "attendence=int(input(\"enter m of classes attend:\"))\n",
    "if attendence<0.075:\n",
    "    print(\" u will not be allowed to sit in exam\")\n",
    "else:\n",
    "    print(\" u will allow to sit in exam\")"
   ]
  },
  {
   "cell_type": "markdown",
   "metadata": {},
   "source": [
    "15) Modify the above question to allow student to sit if he/she has medical cause. Ask user if he/she has medical cause or not ( 'Y' or 'N' ) and print accordingly."
   ]
  },
  {
   "cell_type": "code",
   "execution_count": 25,
   "metadata": {},
   "outputs": [
    {
     "name": "stdout",
     "output_type": "stream",
     "text": [
      "enter your medical cause(Y/N):N\n",
      "u re not allow to sit in exam \n"
     ]
    }
   ],
   "source": [
    "medical=input(\"enter your medical cause(Y/N):\")\n",
    "if medical==\"Y\":\n",
    "    print(\"u re allow to sit in exam\")\n",
    "else:\n",
    "    print(\"u re not allow to sit in exam \")"
   ]
  },
  {
   "cell_type": "markdown",
   "metadata": {},
   "source": [
    "16) Write a program to check if a year is leap year or not.\n",
    "\n",
    "If a year is divisible by 4 then it is leap year but if the year is century year like 2000, 1900, 2100 then it must be divisible by 400."
   ]
  },
  {
   "cell_type": "code",
   "execution_count": 26,
   "metadata": {},
   "outputs": [
    {
     "name": "stdout",
     "output_type": "stream",
     "text": [
      "Enter a year: 2019\n",
      "2019 is not a leap year.\n"
     ]
    }
   ],
   "source": [
    "year = int(input(\"Enter a year: \"))\n",
    "if year % 4 == 0:\n",
    "    print(f\"{year} is a leap year.\")\n",
    "elif year % 100 == 0:\n",
    "    print(f\"{year} is a leap year.\")\n",
    "elif year % 400 == 0:\n",
    "    print(f\"{year} is not a leap year.\")\n",
    "else:\n",
    "     print(f\"{year} is not a leap year.\")"
   ]
  },
  {
   "cell_type": "markdown",
   "metadata": {},
   "source": [
    "17) Ask user to enter age, gender ( M or F ), marital status ( Y or N ) and then using following rules print their place of service.\n",
    "\n",
    "if employee is female, then she will work only in urban areas.\n",
    "\n",
    "if employee is a male and age is in between 20 to 40 then he may work in anywhere\n",
    "\n",
    "if employee is male and age is in between 40 t0 60 then he will work in urban areas only.\n",
    "\n",
    "And any other input of age should print \"ERROR\""
   ]
  },
  {
   "cell_type": "code",
   "execution_count": 28,
   "metadata": {},
   "outputs": [
    {
     "name": "stdout",
     "output_type": "stream",
     "text": [
      "enter your gender (M/F)M\n",
      "enter your age:34\n",
      "enter your martial status(Y/N)Y\n",
      "u will wok anywhere\n",
      "u will work in urban areas\n"
     ]
    }
   ],
   "source": [
    "gender=input(\"enter your gender (M/F)\")\n",
    "age=int(input(\"enter your age:\"))\n",
    "martial_status=input(\"enter your martial status(Y/N)\")\n",
    "if gender==\"F\":\n",
    "    print(\"u work in urban areas\")\n",
    "if gender==\"M\":  \n",
    "    if age<40>20:\n",
    "        print(\"u will wok anywhere\")\n",
    "if gender==\"M\":\n",
    "    if age<60>40:\n",
    "        print(\"u will work in urban areas\")\n",
    "else:\n",
    "    print(\"error\")"
   ]
  },
  {
   "cell_type": "markdown",
   "metadata": {},
   "source": [
    "6) Write a program to calculate the electricity bill (accept number of unit from user) according to the following criteria :\n",
    "     Unit                                                     Price  \n",
    "uptp 100 units                                             no charge\n",
    "Next 200 units                                              Rs 5 per unit\n",
    "After 200 units                                             Rs 10 per unit\n",
    "(For example if input unit is 350 than total bill amount is Rs.3500\n",
    "(For example if input unit is 97 than total bill amount is Rs.0\n",
    "(For example if input unit is 150 than total bill amount is Rs.750"
   ]
  },
  {
   "cell_type": "markdown",
   "metadata": {},
   "source": [
    "13) Take input of age of 3 people by user and determine oldest and youngest among them."
   ]
  },
  {
   "cell_type": "code",
   "execution_count": 31,
   "metadata": {},
   "outputs": [
    {
     "name": "stdout",
     "output_type": "stream",
     "text": [
      "enter your units:450\n"
     ]
    }
   ],
   "source": [
    "#6\n",
    "unit=int(input(\"enter your units:\"))\n",
    "if unit<100:\n",
    "    print(\"your bill amount is 0\")\n",
    "elif unit<200>100:\n",
    "    print(f\"your bill amount is {unit*5}\")\n",
    "elif unit<400>200:\n",
    "     print(f\"your bill amount is {unit*10}\")\n"
   ]
  },
  {
   "cell_type": "code",
   "execution_count": 32,
   "metadata": {},
   "outputs": [
    {
     "name": "stdout",
     "output_type": "stream",
     "text": [
      "Enter the age of person 1: 45\n",
      "Enter the age of person 2: 54\n",
      "Enter the age of person 3: 34\n",
      "The oldest person is 54 years old.\n",
      "The youngest person is 34 years old.\n"
     ]
    }
   ],
   "source": [
    "#13\n",
    "age1 = int(input(\"Enter the age of person 1: \"))\n",
    "age2 = int(input(\"Enter the age of person 2: \"))\n",
    "age3 = int(input(\"Enter the age of person 3: \"))\n",
    "oldest = max(age1, age2, age3)\n",
    "youngest = min(age1, age2, age3)\n",
    "print(f\"The oldest person is {oldest} years old.\")\n",
    "print(f\"The youngest person is {youngest} years old.\")"
   ]
  }
 ],
 "metadata": {
  "kernelspec": {
   "display_name": "Python 3 (ipykernel)",
   "language": "python",
   "name": "python3"
  },
  "language_info": {
   "codemirror_mode": {
    "name": "ipython",
    "version": 3
   },
   "file_extension": ".py",
   "mimetype": "text/x-python",
   "name": "python",
   "nbconvert_exporter": "python",
   "pygments_lexer": "ipython3",
   "version": "3.11.5"
  }
 },
 "nbformat": 4,
 "nbformat_minor": 2
}
